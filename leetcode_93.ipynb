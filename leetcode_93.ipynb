{
 "cells": [
  {
   "cell_type": "code",
   "execution_count": 8,
   "metadata": {},
   "outputs": [
    {
     "name": "stdout",
     "output_type": "stream",
     "text": [
      "0\n",
      "10\n",
      "0\n",
      "10\n",
      "True\n"
     ]
    }
   ],
   "source": [
    "class Solution(object):\n",
    "    def restoreIpAddresses(self, s):\n",
    "        \"\"\"\n",
    "        :type s: str\n",
    "        :rtype: List[str]\n",
    "        \"\"\"\n",
    "        if len(s)<4 or len(s) >= 13:\n",
    "            return []\n",
    "        result = []\n",
    "        x = 1\n",
    "        while x <= len(s)-3:\n",
    "            y = x+1\n",
    "            while y <= len(s)-2:\n",
    "                z = y+1\n",
    "                while z <= len(s)-1:\n",
    "                    if self.isvalid(x,y,z,s) == True:\n",
    "                            result.append(\"%s.%s.%s.%s\"%(s[:x],s[x:y],s[y:z],s[z:]))\n",
    "                    z+=1\n",
    "                y+=1\n",
    "            x+=1\n",
    "        return result\n",
    "    def isvalid(self,a,b,c,s):\n",
    "        print s[:a]\n",
    "        print s[a:b]\n",
    "        print s[b:c]\n",
    "        print s[c:]\n",
    "        \n",
    "        if \"0\" in s[:a]:\n",
    "            if len(s[:a]) != 1 and '0' == s[:a][0]:\n",
    "                return False\n",
    "\n",
    "        num_a = int(s[:a])\n",
    "        if \"0\" in s[a:b]:\n",
    "            if len(s[a:b]) != 1 and '0' == s[a:b][0]:\n",
    "                return False\n",
    "        \n",
    "        num_b = int(s[a:b])\n",
    "        \n",
    "        if \"0\" in s[b:c]:\n",
    "            if len(s[b:c]) != 1 and '0' == s[b:c][0]:\n",
    "                return False\n",
    "            \n",
    "        num_c = int(s[b:c])\n",
    "        \n",
    "        if \"0\" in s[c:]:\n",
    "            if len(s[c:]) != 1 and '0' == s[c:][0]:\n",
    "                return False\n",
    "            \n",
    "        num_d = int(s[c:])\n",
    "        \n",
    "        if num_a <= 255 and num_a >= 0 and num_b <= 255 and num_b >= 0 and num_c <= 255 and num_c >= 0 and num_d <= 255 and num_d >= 0:\n",
    "            return True\n",
    "                \n",
    "        else:\n",
    "            return False\n",
    "        \n",
    "so = Solution()\n",
    "# print so.restoreIpAddresses(\"25525511135\")\n",
    "# \"0.10.0.10\",\"0.100.1.0\"\n",
    "# print so.isvalid(1,3,4,\"010010\")"
   ]
  },
  {
   "cell_type": "code",
   "execution_count": null,
   "metadata": {},
   "outputs": [],
   "source": []
  }
 ],
 "metadata": {
  "kernelspec": {
   "display_name": "Python 2",
   "language": "python",
   "name": "python2"
  },
  "language_info": {
   "codemirror_mode": {
    "name": "ipython",
    "version": 2
   },
   "file_extension": ".py",
   "mimetype": "text/x-python",
   "name": "python",
   "nbconvert_exporter": "python",
   "pygments_lexer": "ipython2",
   "version": "2.7.15"
  }
 },
 "nbformat": 4,
 "nbformat_minor": 2
}
